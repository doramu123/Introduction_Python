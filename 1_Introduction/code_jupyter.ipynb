{
 "cells": [
  {
   "cell_type": "code",
   "execution_count": 3,
   "id": "82828430",
   "metadata": {},
   "outputs": [],
   "source": [
    "# https://www.youtube.com/watch?v=uVLzL5E-YBM&t=457s - Tutorial\n",
    "# Sample notebooks - https://github.com/ageron/handson-ml\n",
    "x = 5\n",
    "y = 15"
   ]
  },
  {
   "cell_type": "markdown",
   "id": "9c335dd6",
   "metadata": {},
   "source": [
    "The above variable assignation is just an example."
   ]
  },
  {
   "cell_type": "code",
   "execution_count": 6,
   "id": "d7811d34",
   "metadata": {
    "scrolled": true
   },
   "outputs": [
    {
     "name": "stdout",
     "output_type": "stream",
     "text": [
      "Enter a name: baldan\n"
     ]
    }
   ],
   "source": [
    "# this is code\n",
    "name = input(\"Enter a name: \")\n"
   ]
  },
  {
   "cell_type": "code",
   "execution_count": 7,
   "id": "1053de03",
   "metadata": {},
   "outputs": [
    {
     "name": "stdout",
     "output_type": "stream",
     "text": [
      "5\n",
      "15\n",
      "baldan\n"
     ]
    }
   ],
   "source": [
    "# this is code \n",
    "print(x)\n",
    "print(y)\n",
    "print(name)"
   ]
  },
  {
   "cell_type": "markdown",
   "id": "14a82415",
   "metadata": {},
   "source": [
    "# Markdown examples\n",
    "\n",
    "simple text <br>\n",
    "simple <br>\n",
    "simple <br>\n",
    "\n",
    "## Parameter A\n",
    "### Subsection\n",
    "This is text, too.\n",
    "\n",
    "$\\alpha \\frac{5}{4}$\n"
   ]
  },
  {
   "cell_type": "code",
   "execution_count": 8,
   "id": "eec318be",
   "metadata": {},
   "outputs": [
    {
     "name": "stdout",
     "output_type": "stream",
     "text": [
      "Enter a name: Suren\n"
     ]
    }
   ],
   "source": [
    "name = input(\"Enter a name: \")"
   ]
  },
  {
   "cell_type": "code",
   "execution_count": 9,
   "id": "98b092aa",
   "metadata": {},
   "outputs": [
    {
     "name": "stdout",
     "output_type": "stream",
     "text": [
      "Suren\n"
     ]
    }
   ],
   "source": [
    "print(name)"
   ]
  }
 ],
 "metadata": {
  "kernelspec": {
   "display_name": "Python 3",
   "language": "python",
   "name": "python3"
  },
  "language_info": {
   "codemirror_mode": {
    "name": "ipython",
    "version": 3
   },
   "file_extension": ".py",
   "mimetype": "text/x-python",
   "name": "python",
   "nbconvert_exporter": "python",
   "pygments_lexer": "ipython3",
   "version": "3.8.8"
  }
 },
 "nbformat": 4,
 "nbformat_minor": 5
}
