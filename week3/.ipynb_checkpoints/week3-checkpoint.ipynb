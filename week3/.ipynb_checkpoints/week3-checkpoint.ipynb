{
 "cells": [
  {
   "cell_type": "code",
   "execution_count": 5,
   "id": "09a90442",
   "metadata": {},
   "outputs": [],
   "source": [
    "def myFunc(myInput):\n",
    "    \"\"\"\n",
    "    This function does ...\n",
    "    \"\"\"\n",
    "    print(\"Hi\")\n",
    "    twice = myInput * 2\n",
    "    return twice\n",
    "    \n",
    "    "
   ]
  },
  {
   "cell_type": "code",
   "execution_count": 11,
   "id": "831b8dde",
   "metadata": {
    "scrolled": false
   },
   "outputs": [
    {
     "name": "stdout",
     "output_type": "stream",
     "text": [
      "Hi\n"
     ]
    },
    {
     "data": {
      "text/plain": [
       "20"
      ]
     },
     "execution_count": 11,
     "metadata": {},
     "output_type": "execute_result"
    }
   ],
   "source": [
    "myFunc(10)"
   ]
  },
  {
   "cell_type": "code",
   "execution_count": 8,
   "id": "6a353ab1",
   "metadata": {
    "scrolled": false
   },
   "outputs": [
    {
     "name": "stdout",
     "output_type": "stream",
     "text": [
      "Hi\n",
      "20\n"
     ]
    }
   ],
   "source": [
    "result = myFunc(10)\n",
    "print(result)"
   ]
  },
  {
   "cell_type": "code",
   "execution_count": 13,
   "id": "82500bae",
   "metadata": {
    "scrolled": true
   },
   "outputs": [
    {
     "name": "stdout",
     "output_type": "stream",
     "text": [
      "Help on built-in function print in module builtins:\n",
      "\n",
      "print(...)\n",
      "    print(value, ..., sep=' ', end='\\n', file=sys.stdout, flush=False)\n",
      "    \n",
      "    Prints the values to a stream, or to sys.stdout by default.\n",
      "    Optional keyword arguments:\n",
      "    file:  a file-like object (stream); defaults to the current sys.stdout.\n",
      "    sep:   string inserted between values, default a space.\n",
      "    end:   string appended after the last value, default a newline.\n",
      "    flush: whether to forcibly flush the stream.\n",
      "\n"
     ]
    }
   ],
   "source": [
    "help(print)"
   ]
  },
  {
   "cell_type": "code",
   "execution_count": 15,
   "id": "b17e428a",
   "metadata": {},
   "outputs": [],
   "source": [
    "def functionName(input1, input2):\n",
    "    \"\"\"\n",
    "    \n",
    "    Purpose of the function\n",
    "\n",
    "    Parameters\n",
    "    ----------\n",
    "    input1 : float\n",
    "        salary of employee\n",
    "    input2 : int\n",
    "        age of employee\n",
    "\n",
    "    Returns\n",
    "    -------\n",
    "    int\n",
    "        twice the first input.\n",
    "\n",
    "\n",
    "    copyright @Py4Econ\n",
    "    \n",
    "    \"\"\""
   ]
  },
  {
   "cell_type": "code",
   "execution_count": 16,
   "id": "468ffc4b",
   "metadata": {
    "scrolled": true
   },
   "outputs": [
    {
     "name": "stdout",
     "output_type": "stream",
     "text": [
      "Help on function functionName in module __main__:\n",
      "\n",
      "functionName(input1, input2)\n",
      "    Parameters\n",
      "    ----------\n",
      "    input1 : float\n",
      "        salary of employee\n",
      "    input2 : int\n",
      "        age of employee\n",
      "    \n",
      "    Returns\n",
      "    -------\n",
      "    int\n",
      "        twice the first input.\n",
      "\n"
     ]
    }
   ],
   "source": [
    "help(functionName)"
   ]
  },
  {
   "cell_type": "code",
   "execution_count": 19,
   "id": "49f6280e",
   "metadata": {},
   "outputs": [],
   "source": [
    "def two_times(number):\n",
    "    \"\"\"\n",
    "    multiple by two\n",
    "    input\n",
    "    output\n",
    "    \"\"\"\n",
    "    twice = number*2\n",
    "    \n",
    "    return twice "
   ]
  },
  {
   "cell_type": "code",
   "execution_count": 20,
   "id": "c8f46170",
   "metadata": {},
   "outputs": [
    {
     "data": {
      "text/plain": [
       "300"
      ]
     },
     "execution_count": 20,
     "metadata": {},
     "output_type": "execute_result"
    }
   ],
   "source": [
    "two_times(150)"
   ]
  },
  {
   "cell_type": "code",
   "execution_count": 27,
   "id": "a1dbadfd",
   "metadata": {},
   "outputs": [],
   "source": [
    "def two_three_times(number):\n",
    "    \"\"\"\n",
    "    multiple by two and three\n",
    "    \"\"\"\n",
    "    #return number*2, number*3 # tuple\n",
    "    return [number*2, number*3] # list"
   ]
  },
  {
   "cell_type": "code",
   "execution_count": 28,
   "id": "bc7efdd7",
   "metadata": {},
   "outputs": [
    {
     "data": {
      "text/plain": [
       "[30, 45]"
      ]
     },
     "execution_count": 28,
     "metadata": {},
     "output_type": "execute_result"
    }
   ],
   "source": [
    "two_three_times(15)"
   ]
  },
  {
   "cell_type": "code",
   "execution_count": 29,
   "id": "6773af2c",
   "metadata": {},
   "outputs": [],
   "source": [
    "def two_three_times(number=30):\n",
    "    \"\"\"\n",
    "    multiple by two and three\n",
    "    \"\"\"\n",
    "    #return number*2, number*3 # tuple\n",
    "    return [number*2, number*3] # list"
   ]
  },
  {
   "cell_type": "code",
   "execution_count": 30,
   "id": "9576b7ae",
   "metadata": {},
   "outputs": [
    {
     "data": {
      "text/plain": [
       "[60, 90]"
      ]
     },
     "execution_count": 30,
     "metadata": {},
     "output_type": "execute_result"
    }
   ],
   "source": [
    "two_three_times()"
   ]
  },
  {
   "cell_type": "code",
   "execution_count": 31,
   "id": "a165c5a8",
   "metadata": {},
   "outputs": [
    {
     "data": {
      "text/plain": [
       "[90, 135]"
      ]
     },
     "execution_count": 31,
     "metadata": {},
     "output_type": "execute_result"
    }
   ],
   "source": [
    "two_three_times(45)"
   ]
  },
  {
   "cell_type": "code",
   "execution_count": 39,
   "id": "7535635b",
   "metadata": {},
   "outputs": [],
   "source": [
    "def aging(age=25, year = 93):\n",
    "    \"\"\"\n",
    "    \"\"\"\n",
    "    age_10 = age + 10\n",
    "    year_10 = year + 10\n",
    "    return age_10, year_10"
   ]
  },
  {
   "cell_type": "code",
   "execution_count": 42,
   "id": "c897ec3d",
   "metadata": {},
   "outputs": [],
   "source": [
    "def aging(year,age=25):\n",
    "    \"\"\"\n",
    "    \"\"\"\n",
    "    age_10 = age + 10\n",
    "    year_10 = year + 10\n",
    "    return age_10, year_10"
   ]
  },
  {
   "cell_type": "code",
   "execution_count": 43,
   "id": "faa43149",
   "metadata": {
    "scrolled": true
   },
   "outputs": [
    {
     "data": {
      "text/plain": [
       "(27, 45)"
      ]
     },
     "execution_count": 43,
     "metadata": {},
     "output_type": "execute_result"
    }
   ],
   "source": [
    "aging(35,17)"
   ]
  },
  {
   "cell_type": "code",
   "execution_count": 44,
   "id": "7934bd97",
   "metadata": {},
   "outputs": [],
   "source": [
    "def aging(year, year1, age=25,avar = 17):\n",
    "    \"\"\"\n",
    "    \"\"\"\n",
    "    age_10 = age + 10\n",
    "    year_10 = year + 10\n",
    "    return age_10, year_10, year1 +10, avar-5"
   ]
  },
  {
   "cell_type": "code",
   "execution_count": 45,
   "id": "cdeb8259",
   "metadata": {},
   "outputs": [
    {
     "ename": "TypeError",
     "evalue": "aging() missing 2 required positional arguments: 'year' and 'year1'",
     "output_type": "error",
     "traceback": [
      "\u001b[1;31m---------------------------------------------------------------------------\u001b[0m",
      "\u001b[1;31mTypeError\u001b[0m                                 Traceback (most recent call last)",
      "\u001b[1;32m<ipython-input-45-9e572cefe4d9>\u001b[0m in \u001b[0;36m<module>\u001b[1;34m\u001b[0m\n\u001b[1;32m----> 1\u001b[1;33m \u001b[0maging\u001b[0m\u001b[1;33m(\u001b[0m\u001b[1;33m)\u001b[0m\u001b[1;33m\u001b[0m\u001b[1;33m\u001b[0m\u001b[0m\n\u001b[0m",
      "\u001b[1;31mTypeError\u001b[0m: aging() missing 2 required positional arguments: 'year' and 'year1'"
     ]
    }
   ],
   "source": [
    "aging()"
   ]
  },
  {
   "cell_type": "code",
   "execution_count": 46,
   "id": "a2a63fc3",
   "metadata": {},
   "outputs": [
    {
     "data": {
      "text/plain": [
       "(35, 103, 105, 12)"
      ]
     },
     "execution_count": 46,
     "metadata": {},
     "output_type": "execute_result"
    }
   ],
   "source": [
    "aging(93,95)"
   ]
  },
  {
   "cell_type": "code",
   "execution_count": 58,
   "id": "e29b79c6",
   "metadata": {},
   "outputs": [],
   "source": [
    "def aging(*keys):\n",
    "    print(\"hi\")\n",
    "    print(keys[0])\n",
    "    print(keys[2])"
   ]
  },
  {
   "cell_type": "code",
   "execution_count": 59,
   "id": "cc30db46",
   "metadata": {},
   "outputs": [
    {
     "name": "stdout",
     "output_type": "stream",
     "text": [
      "hi\n",
      "15\n",
      "35\n"
     ]
    }
   ],
   "source": [
    "aging(15,25,35)"
   ]
  },
  {
   "cell_type": "code",
   "execution_count": 63,
   "id": "4e537257",
   "metadata": {},
   "outputs": [],
   "source": [
    "def aging(**kwargs):\n",
    "    print(\"hi\")\n",
    "    print(kwargs['numberChild'])\n",
    "    print(kwargs['nkeys'])"
   ]
  },
  {
   "cell_type": "code",
   "execution_count": 64,
   "id": "97818720",
   "metadata": {},
   "outputs": [
    {
     "name": "stdout",
     "output_type": "stream",
     "text": [
      "hi\n",
      "3\n",
      "5\n"
     ]
    }
   ],
   "source": [
    "aging(numberChild = 3, nkeys = 5)"
   ]
  },
  {
   "cell_type": "code",
   "execution_count": 65,
   "id": "12661cd8",
   "metadata": {
    "scrolled": true
   },
   "outputs": [
    {
     "name": "stdout",
     "output_type": "stream",
     "text": [
      "hi\n"
     ]
    },
    {
     "ename": "KeyError",
     "evalue": "'numberChild'",
     "output_type": "error",
     "traceback": [
      "\u001b[1;31m---------------------------------------------------------------------------\u001b[0m",
      "\u001b[1;31mKeyError\u001b[0m                                  Traceback (most recent call last)",
      "\u001b[1;32m<ipython-input-65-9e572cefe4d9>\u001b[0m in \u001b[0;36m<module>\u001b[1;34m\u001b[0m\n\u001b[1;32m----> 1\u001b[1;33m \u001b[0maging\u001b[0m\u001b[1;33m(\u001b[0m\u001b[1;33m)\u001b[0m\u001b[1;33m\u001b[0m\u001b[1;33m\u001b[0m\u001b[0m\n\u001b[0m",
      "\u001b[1;32m<ipython-input-63-1110e87eff21>\u001b[0m in \u001b[0;36maging\u001b[1;34m(**kwargs)\u001b[0m\n\u001b[0;32m      1\u001b[0m \u001b[1;32mdef\u001b[0m \u001b[0maging\u001b[0m\u001b[1;33m(\u001b[0m\u001b[1;33m**\u001b[0m\u001b[0mkwargs\u001b[0m\u001b[1;33m)\u001b[0m\u001b[1;33m:\u001b[0m\u001b[1;33m\u001b[0m\u001b[1;33m\u001b[0m\u001b[0m\n\u001b[0;32m      2\u001b[0m     \u001b[0mprint\u001b[0m\u001b[1;33m(\u001b[0m\u001b[1;34m\"hi\"\u001b[0m\u001b[1;33m)\u001b[0m\u001b[1;33m\u001b[0m\u001b[1;33m\u001b[0m\u001b[0m\n\u001b[1;32m----> 3\u001b[1;33m     \u001b[0mprint\u001b[0m\u001b[1;33m(\u001b[0m\u001b[0mkwargs\u001b[0m\u001b[1;33m[\u001b[0m\u001b[1;34m'numberChild'\u001b[0m\u001b[1;33m]\u001b[0m\u001b[1;33m)\u001b[0m\u001b[1;33m\u001b[0m\u001b[1;33m\u001b[0m\u001b[0m\n\u001b[0m\u001b[0;32m      4\u001b[0m     \u001b[0mprint\u001b[0m\u001b[1;33m(\u001b[0m\u001b[0mkwargs\u001b[0m\u001b[1;33m[\u001b[0m\u001b[1;34m'nkeys'\u001b[0m\u001b[1;33m]\u001b[0m\u001b[1;33m)\u001b[0m\u001b[1;33m\u001b[0m\u001b[1;33m\u001b[0m\u001b[0m\n",
      "\u001b[1;31mKeyError\u001b[0m: 'numberChild'"
     ]
    }
   ],
   "source": [
    "aging()"
   ]
  },
  {
   "cell_type": "code",
   "execution_count": 68,
   "id": "2e9ab436",
   "metadata": {},
   "outputs": [],
   "source": [
    "def aging(**kwargs):\n",
    "    print(\"hi\")\n",
    "    if len(kwargs) == 0:\n",
    "        print(kwargs['numberChild'])\n",
    "    else:\n",
    "        print(\"no kwargs\")\n"
   ]
  },
  {
   "cell_type": "code",
   "execution_count": 75,
   "id": "b7003fed",
   "metadata": {},
   "outputs": [],
   "source": [
    "def aging(**kwargs):\n",
    "    print(\"hi\")\n",
    "    # print(kwargs['numberChild'])\n",
    "    if kwargs['numberChild'] is None:\n",
    "        print(\"hi\")"
   ]
  },
  {
   "cell_type": "code",
   "execution_count": 79,
   "id": "3060e5b2",
   "metadata": {},
   "outputs": [],
   "source": [
    "def aging(**kwargs):\n",
    "    print(\"hi\")\n",
    "    # print(kwargs['numberChild'])\n",
    "    if len(kwargs) == 0:\n",
    "        print(\"empty\")"
   ]
  },
  {
   "cell_type": "code",
   "execution_count": 80,
   "id": "4729af46",
   "metadata": {},
   "outputs": [
    {
     "name": "stdout",
     "output_type": "stream",
     "text": [
      "hi\n",
      "empty\n"
     ]
    }
   ],
   "source": [
    "aging()"
   ]
  },
  {
   "cell_type": "code",
   "execution_count": 85,
   "id": "6e562906",
   "metadata": {},
   "outputs": [],
   "source": [
    "def aging(**kwargs):\n",
    "    print(\"hi\")\n",
    "    # print(kwargs['numberChild'])\n",
    "    if 'numberChild' in kwargs.keys():\n",
    "        print(\"numberChild exists\") \n",
    "    elif 'nkeys' in kwargs.keys():\n",
    "        print(\"use nkeys\")\n",
    "    else: \n",
    "        print(\"do nothing with numberChild and nkeys\")"
   ]
  },
  {
   "cell_type": "code",
   "execution_count": 87,
   "id": "b49ace44",
   "metadata": {
    "scrolled": true
   },
   "outputs": [
    {
     "name": "stdout",
     "output_type": "stream",
     "text": [
      "hi\n",
      "use nkeys\n"
     ]
    }
   ],
   "source": [
    "aging(nkeys=5)"
   ]
  },
  {
   "cell_type": "code",
   "execution_count": 88,
   "id": "1c382646",
   "metadata": {},
   "outputs": [],
   "source": [
    "x = 20 # global by default\n",
    "\n",
    "def my_func(ageby=5):\n",
    "    \n",
    "    x = 5 # local by default \n",
    "    \n",
    "    x = x + ageby\n",
    "    \n",
    "    return x"
   ]
  },
  {
   "cell_type": "code",
   "execution_count": 89,
   "id": "210be7ab",
   "metadata": {},
   "outputs": [
    {
     "name": "stdout",
     "output_type": "stream",
     "text": [
      "20\n"
     ]
    }
   ],
   "source": [
    "print(x)"
   ]
  },
  {
   "cell_type": "code",
   "execution_count": 90,
   "id": "c4068fc2",
   "metadata": {},
   "outputs": [
    {
     "name": "stdout",
     "output_type": "stream",
     "text": [
      "10\n"
     ]
    }
   ],
   "source": [
    "res = my_func()\n",
    "print(res)"
   ]
  },
  {
   "cell_type": "code",
   "execution_count": 91,
   "id": "adfcebe3",
   "metadata": {},
   "outputs": [
    {
     "data": {
      "text/plain": [
       "20"
      ]
     },
     "execution_count": 91,
     "metadata": {},
     "output_type": "execute_result"
    }
   ],
   "source": [
    "x"
   ]
  },
  {
   "cell_type": "code",
   "execution_count": 92,
   "id": "77275d7e",
   "metadata": {},
   "outputs": [],
   "source": [
    "x = 20 # global by default\n",
    "\n",
    "def my_func(ageby=5):\n",
    "    \n",
    "    # x = 5 # local by default \n",
    "    \n",
    "    global x # use global variable inside a function\n",
    "    \n",
    "    x = x + ageby\n",
    "    \n",
    "    return x"
   ]
  },
  {
   "cell_type": "code",
   "execution_count": 93,
   "id": "b448d019",
   "metadata": {},
   "outputs": [
    {
     "name": "stdout",
     "output_type": "stream",
     "text": [
      "20\n"
     ]
    }
   ],
   "source": [
    "print(x)"
   ]
  },
  {
   "cell_type": "code",
   "execution_count": 94,
   "id": "f2f8eeae",
   "metadata": {},
   "outputs": [
    {
     "name": "stdout",
     "output_type": "stream",
     "text": [
      "25\n"
     ]
    }
   ],
   "source": [
    "res = my_func()\n",
    "print(res)"
   ]
  },
  {
   "cell_type": "code",
   "execution_count": 95,
   "id": "b60b803f",
   "metadata": {
    "scrolled": false
   },
   "outputs": [
    {
     "name": "stdout",
     "output_type": "stream",
     "text": [
      "25\n"
     ]
    }
   ],
   "source": [
    "print(x)"
   ]
  },
  {
   "cell_type": "code",
   "execution_count": null,
   "id": "89e7d9b8",
   "metadata": {},
   "outputs": [],
   "source": [
    "x = 20 # global by default\n",
    "\n",
    "def my_func(ageby=5):\n",
    "        \n",
    "    x = x + ageby\n",
    "    \n",
    "    return x"
   ]
  },
  {
   "cell_type": "markdown",
   "id": "02899b7a",
   "metadata": {},
   "source": [
    "aging(numberChild = 3)"
   ]
  }
 ],
 "metadata": {
  "kernelspec": {
   "display_name": "Python 3",
   "language": "python",
   "name": "python3"
  },
  "language_info": {
   "codemirror_mode": {
    "name": "ipython",
    "version": 3
   },
   "file_extension": ".py",
   "mimetype": "text/x-python",
   "name": "python",
   "nbconvert_exporter": "python",
   "pygments_lexer": "ipython3",
   "version": "3.8.8"
  }
 },
 "nbformat": 4,
 "nbformat_minor": 5
}
