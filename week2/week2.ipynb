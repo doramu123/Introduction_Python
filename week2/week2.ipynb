{
 "cells": [
  {
   "cell_type": "code",
   "execution_count": 2,
   "id": "d8a2d960",
   "metadata": {},
   "outputs": [],
   "source": [
    "# Read excel data\n",
    "import numpy as np\n",
    "import pandas as pd\n",
    "df = pd.read_excel(\"C:/Users/sugarkhuu/Documents/python/repo/Introduction_Python/week2/data.xlsx\")"
   ]
  },
  {
   "cell_type": "code",
   "execution_count": 4,
   "id": "e3c17d11",
   "metadata": {},
   "outputs": [
    {
     "data": {
      "text/html": [
       "<div>\n",
       "<style scoped>\n",
       "    .dataframe tbody tr th:only-of-type {\n",
       "        vertical-align: middle;\n",
       "    }\n",
       "\n",
       "    .dataframe tbody tr th {\n",
       "        vertical-align: top;\n",
       "    }\n",
       "\n",
       "    .dataframe thead th {\n",
       "        text-align: right;\n",
       "    }\n",
       "</style>\n",
       "<table border=\"1\" class=\"dataframe\">\n",
       "  <thead>\n",
       "    <tr style=\"text-align: right;\">\n",
       "      <th></th>\n",
       "      <th>id</th>\n",
       "      <th>firstName</th>\n",
       "      <th>lastName</th>\n",
       "      <th>citizenId</th>\n",
       "      <th>age</th>\n",
       "      <th>yearsInCompany</th>\n",
       "      <th>salary</th>\n",
       "      <th>gender</th>\n",
       "      <th>startDate</th>\n",
       "      <th>politicalView</th>\n",
       "    </tr>\n",
       "  </thead>\n",
       "  <tbody>\n",
       "    <tr>\n",
       "      <th>0</th>\n",
       "      <td>1</td>\n",
       "      <td>Suren</td>\n",
       "      <td>Itgel</td>\n",
       "      <td>SU03</td>\n",
       "      <td>18</td>\n",
       "      <td>0.5</td>\n",
       "      <td>1.5</td>\n",
       "      <td>F</td>\n",
       "      <td>2020-05-13</td>\n",
       "      <td>left</td>\n",
       "    </tr>\n",
       "    <tr>\n",
       "      <th>1</th>\n",
       "      <td>2</td>\n",
       "      <td>Chimeg</td>\n",
       "      <td>Baldan</td>\n",
       "      <td>BH98</td>\n",
       "      <td>23</td>\n",
       "      <td>2.0</td>\n",
       "      <td>1.7</td>\n",
       "      <td>F</td>\n",
       "      <td>2011-07-12</td>\n",
       "      <td>right</td>\n",
       "    </tr>\n",
       "    <tr>\n",
       "      <th>2</th>\n",
       "      <td>3</td>\n",
       "      <td>Gerel</td>\n",
       "      <td>Tsog</td>\n",
       "      <td>DA86</td>\n",
       "      <td>35</td>\n",
       "      <td>4.0</td>\n",
       "      <td>1.9</td>\n",
       "      <td>F</td>\n",
       "      <td>2017-06-14</td>\n",
       "      <td>right</td>\n",
       "    </tr>\n",
       "    <tr>\n",
       "      <th>3</th>\n",
       "      <td>4</td>\n",
       "      <td>Kherlen</td>\n",
       "      <td>Sukh</td>\n",
       "      <td>BU79</td>\n",
       "      <td>42</td>\n",
       "      <td>2.0</td>\n",
       "      <td>1.6</td>\n",
       "      <td>F</td>\n",
       "      <td>2019-11-15</td>\n",
       "      <td>left</td>\n",
       "    </tr>\n",
       "    <tr>\n",
       "      <th>4</th>\n",
       "      <td>5</td>\n",
       "      <td>Badral</td>\n",
       "      <td>Damchaa</td>\n",
       "      <td>ER89</td>\n",
       "      <td>32</td>\n",
       "      <td>8.0</td>\n",
       "      <td>2.3</td>\n",
       "      <td>M</td>\n",
       "      <td>2013-01-25</td>\n",
       "      <td>right</td>\n",
       "    </tr>\n",
       "  </tbody>\n",
       "</table>\n",
       "</div>"
      ],
      "text/plain": [
       "   id firstName lastName citizenId  age  yearsInCompany  salary gender  \\\n",
       "0   1     Suren    Itgel      SU03   18             0.5     1.5      F   \n",
       "1   2    Chimeg   Baldan      BH98   23             2.0     1.7      F   \n",
       "2   3     Gerel     Tsog      DA86   35             4.0     1.9      F   \n",
       "3   4   Kherlen     Sukh      BU79   42             2.0     1.6      F   \n",
       "4   5    Badral  Damchaa      ER89   32             8.0     2.3      M   \n",
       "\n",
       "   startDate politicalView  \n",
       "0 2020-05-13          left  \n",
       "1 2011-07-12         right  \n",
       "2 2017-06-14         right  \n",
       "3 2019-11-15          left  \n",
       "4 2013-01-25         right  "
      ]
     },
     "execution_count": 4,
     "metadata": {},
     "output_type": "execute_result"
    }
   ],
   "source": [
    "df.head()"
   ]
  },
  {
   "cell_type": "code",
   "execution_count": 15,
   "id": "ccd6a39c",
   "metadata": {},
   "outputs": [],
   "source": [
    "my_number = 15\n",
    "\n",
    "if my_number > 1 and my_number <10:\n",
    "    print(\"Hello\")\n"
   ]
  },
  {
   "cell_type": "code",
   "execution_count": 18,
   "id": "1bfdf6cc",
   "metadata": {},
   "outputs": [
    {
     "name": "stdout",
     "output_type": "stream",
     "text": [
      "The number is not 5\n"
     ]
    }
   ],
   "source": [
    "my_number = 10\n",
    "if my_number == 5:\n",
    "    print(\"The number is 5\")\n",
    "else: \n",
    "    print(\"The number is not 5\")\n",
    "    "
   ]
  },
  {
   "cell_type": "code",
   "execution_count": 26,
   "id": "5cadc520",
   "metadata": {},
   "outputs": [
    {
     "name": "stdout",
     "output_type": "stream",
     "text": [
      "The number is none of 5, 10, 20\n"
     ]
    }
   ],
   "source": [
    "my_number = 23\n",
    "if my_number == 5:\n",
    "    print(\"The number is 5\")\n",
    "elif my_number == 10: \n",
    "    print(\"The number is 10\")\n",
    "elif my_number == 20: \n",
    "    print(\"The number is 20\")\n",
    "else: \n",
    "    print(\"The number is none of 5, 10, 20\")"
   ]
  },
  {
   "cell_type": "code",
   "execution_count": 31,
   "id": "d0183f57",
   "metadata": {},
   "outputs": [
    {
     "name": "stdout",
     "output_type": "stream",
     "text": [
      "Divisible by 5 and not between 1-10\n"
     ]
    }
   ],
   "source": [
    "my_number = 25\n",
    "if np.mod(my_number,5) == 0:\n",
    "    if my_number > 1 and my_number <10:\n",
    "        print(\"Divisible by 5 and between 1-10\")\n",
    "    else:\n",
    "        print(\"Divisible by 5 and not between 1-10\")\n",
    "else: \n",
    "    print(\"The number is not divisible by 5\")"
   ]
  },
  {
   "cell_type": "code",
   "execution_count": 34,
   "id": "bdb4df5c",
   "metadata": {
    "scrolled": true
   },
   "outputs": [
    {
     "name": "stdout",
     "output_type": "stream",
     "text": [
      "0\n",
      "1\n",
      "2\n",
      "3\n",
      "4\n",
      "5\n",
      "6\n",
      "7\n",
      "8\n",
      "9\n",
      "10\n",
      "11\n",
      "12\n",
      "13\n",
      "14\n"
     ]
    }
   ],
   "source": [
    "for i in range(15):\n",
    "    print(i)"
   ]
  },
  {
   "cell_type": "code",
   "execution_count": 36,
   "id": "4a26f067",
   "metadata": {},
   "outputs": [
    {
     "name": "stdout",
     "output_type": "stream",
     "text": [
      "Bat\n",
      "Geral\n",
      "Bold\n"
     ]
    }
   ],
   "source": [
    "mylist = ['Bat','Geral','Bold']\n",
    "\n",
    "for name in mylist:\n",
    "    print(name)"
   ]
  },
  {
   "cell_type": "code",
   "execution_count": 41,
   "id": "20777c23",
   "metadata": {},
   "outputs": [
    {
     "name": "stdout",
     "output_type": "stream",
     "text": [
      "0\n",
      "2\n",
      "2\n",
      "4\n",
      "4\n",
      "6\n",
      "6\n",
      "8\n",
      "8\n",
      "10\n"
     ]
    }
   ],
   "source": [
    "for i in range(15):\n",
    "    if i < 10: \n",
    "        if np.mod(i,2) == 0:\n",
    "            print(i)\n",
    "        else:\n",
    "            print(i+1)\n",
    "    else:\n",
    "        break"
   ]
  },
  {
   "cell_type": "code",
   "execution_count": 51,
   "id": "7ae0846a",
   "metadata": {},
   "outputs": [
    {
     "name": "stdout",
     "output_type": "stream",
     "text": [
      "10\n",
      "10\n",
      "12\n"
     ]
    }
   ],
   "source": [
    "for i in range(15):\n",
    "    if (i > 8) and (i < 12): # &\n",
    "        if np.mod(i,2) == 0:\n",
    "            print(i)\n",
    "        else:\n",
    "            print(i+1)\n",
    "    else:\n",
    "        continue"
   ]
  },
  {
   "cell_type": "code",
   "execution_count": 50,
   "id": "6a6a5c96",
   "metadata": {},
   "outputs": [],
   "source": [
    "for i in range(15):\n",
    "    if i > 10 : \n",
    "        pass\n",
    "    else:\n",
    "        continue"
   ]
  },
  {
   "cell_type": "code",
   "execution_count": 54,
   "id": "438e9bd6",
   "metadata": {
    "scrolled": true
   },
   "outputs": [
    {
     "name": "stdout",
     "output_type": "stream",
     "text": [
      "0\n",
      "1\n",
      "2\n",
      "3\n",
      "4\n",
      "13\n",
      "14\n"
     ]
    }
   ],
   "source": [
    "for i in range(15):\n",
    "    if (i < 5) or (i > 12): # |\n",
    "            print(i)\n",
    "    else:\n",
    "        continue"
   ]
  },
  {
   "cell_type": "code",
   "execution_count": 61,
   "id": "e5360edf",
   "metadata": {},
   "outputs": [
    {
     "name": "stdout",
     "output_type": "stream",
     "text": [
      "Bold\n",
      "Chimeg\n",
      "5\n",
      "10\n",
      "45\n",
      "45\n",
      "45\n",
      "1\n",
      "2\n",
      "5\n",
      "5\n",
      "10\n",
      "45\n",
      "45\n",
      "45\n"
     ]
    }
   ],
   "source": [
    "mylist = [5,10,45,\"Bold\",45,45,'Chimeg']\n",
    "\n",
    "for item in mylist:\n",
    "    if isinstance(item, str):\n",
    "        print(item)\n",
    "        \n",
    "for item in mylist:\n",
    "    if isinstance(item, int):\n",
    "        print(item)\n",
    "\n",
    "                \n",
    "for item in mylist:\n",
    "    if type(item) == int:\n",
    "        print(item)\n",
    "        \n",
    "short_list = [1,2,5]\n",
    "\n",
    "for i in range(10):\n",
    "    if i in short_list:\n",
    "        print(i)\n",
    "        \n"
   ]
  }
 ],
 "metadata": {
  "kernelspec": {
   "display_name": "Python 3",
   "language": "python",
   "name": "python3"
  },
  "language_info": {
   "codemirror_mode": {
    "name": "ipython",
    "version": 3
   },
   "file_extension": ".py",
   "mimetype": "text/x-python",
   "name": "python",
   "nbconvert_exporter": "python",
   "pygments_lexer": "ipython3",
   "version": "3.8.8"
  }
 },
 "nbformat": 4,
 "nbformat_minor": 5
}
