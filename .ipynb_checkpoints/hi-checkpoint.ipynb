{
 "cells": [
  {
   "cell_type": "code",
   "execution_count": 1,
   "id": "b6bf2b51",
   "metadata": {},
   "outputs": [
    {
     "data": {
      "text/plain": [
       "8"
      ]
     },
     "execution_count": 1,
     "metadata": {},
     "output_type": "execute_result"
    }
   ],
   "source": [
    "5+3"
   ]
  },
  {
   "cell_type": "markdown",
   "id": "190973c0",
   "metadata": {},
   "source": [
    "If your kernel runs on a system without internet access, you need to disable the CDN integration which is active by default.\n",
    "\n",
    "Also, for the classic notebook, Bokeh needs to be bootstrapped by calling output_notebook once, similar to Seaborn."
   ]
  },
  {
   "cell_type": "markdown",
   "id": "d39da013",
   "metadata": {},
   "source": [
    "render_chart(p, \"bokeh_iris\")"
   ]
  },
  {
   "cell_type": "code",
   "execution_count": null,
   "id": "16bd1d60",
   "metadata": {},
   "outputs": [],
   "source": [
    "render_chart(p, \"bokeh_iris\")"
   ]
  }
 ],
 "metadata": {
  "kernelspec": {
   "display_name": "Python 3",
   "language": "python",
   "name": "python3"
  },
  "language_info": {
   "codemirror_mode": {
    "name": "ipython",
    "version": 3
   },
   "file_extension": ".py",
   "mimetype": "text/x-python",
   "name": "python",
   "nbconvert_exporter": "python",
   "pygments_lexer": "ipython3",
   "version": "3.8.8"
  }
 },
 "nbformat": 4,
 "nbformat_minor": 5
}
