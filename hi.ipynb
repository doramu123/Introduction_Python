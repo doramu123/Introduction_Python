{
 "cells": [
  {
   "cell_type": "code",
   "execution_count": 1,
   "id": "6c63f221",
   "metadata": {},
   "outputs": [
    {
     "data": {
      "text/plain": [
       "8"
      ]
     },
     "execution_count": 1,
     "metadata": {},
     "output_type": "execute_result"
    }
   ],
   "source": [
    "5+3"
   ]
  },
  {
   "cell_type": "markdown",
   "id": "513f7cbd",
   "metadata": {},
   "source": [
    "If your kernel runs on a system without internet access, you need to disable the CDN integration which is active by default.\n",
    "\n",
    "Also, for the classic notebook, Bokeh needs to be bootstrapped by calling output_notebook once, similar to Seaborn."
   ]
  },
  {
   "cell_type": "code",
   "execution_count": null,
   "id": "889c8b87",
   "metadata": {},
   "outputs": [],
   "source": []
  },
  {
   "cell_type": "code",
   "execution_count": null,
   "id": "54db509e",
   "metadata": {},
   "outputs": [],
   "source": []
  },
  {
   "cell_type": "code",
   "execution_count": null,
   "id": "ab59901b",
   "metadata": {},
   "outputs": [],
   "source": []
  },
  {
   "cell_type": "code",
   "execution_count": null,
   "id": "d085324b",
   "metadata": {},
   "outputs": [],
   "source": []
  },
  {
   "cell_type": "code",
   "execution_count": null,
   "id": "7bccc4f2",
   "metadata": {},
   "outputs": [],
   "source": []
  },
  {
   "cell_type": "markdown",
   "id": "328a6be9",
   "metadata": {},
   "source": [
    "render_chart(p, \"bokeh_iris\")"
   ]
  },
  {
   "cell_type": "code",
   "execution_count": null,
   "id": "d69a09c2",
   "metadata": {},
   "outputs": [],
   "source": [
    "render_chart(p, \"bokeh_iris\")"
   ]
  },
  {
   "cell_type": "code",
   "execution_count": null,
   "id": "9df78d15",
   "metadata": {},
   "outputs": [],
   "source": []
  }
 ],
 "metadata": {
  "kernelspec": {
   "display_name": "Python 3",
   "language": "python",
   "name": "python3"
  },
  "language_info": {
   "codemirror_mode": {
    "name": "ipython",
    "version": 3
   },
   "file_extension": ".py",
   "mimetype": "text/x-python",
   "name": "python",
   "nbconvert_exporter": "python",
   "pygments_lexer": "ipython3",
   "version": "3.8.8"
  }
 },
 "nbformat": 4,
 "nbformat_minor": 5
}
