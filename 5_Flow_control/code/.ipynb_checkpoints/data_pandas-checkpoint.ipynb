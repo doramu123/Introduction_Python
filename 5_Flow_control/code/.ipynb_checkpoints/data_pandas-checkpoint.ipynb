{
 "cells": [
  {
   "cell_type": "code",
   "execution_count": 1,
   "id": "eacce1db",
   "metadata": {
    "scrolled": false
   },
   "outputs": [
    {
     "ename": "FileNotFoundError",
     "evalue": "[Errno 2] No such file or directory: 'data\\\\data.xlsx'",
     "output_type": "error",
     "traceback": [
      "\u001b[1;31m---------------------------------------------------------------------------\u001b[0m",
      "\u001b[1;31mFileNotFoundError\u001b[0m                         Traceback (most recent call last)",
      "\u001b[1;32m<ipython-input-1-370f900ddfa2>\u001b[0m in \u001b[0;36m<module>\u001b[1;34m\u001b[0m\n\u001b[0;32m     17\u001b[0m \u001b[1;31m# os.chdir(r'..')\u001b[0m\u001b[1;33m\u001b[0m\u001b[1;33m\u001b[0m\u001b[1;33m\u001b[0m\u001b[0m\n\u001b[0;32m     18\u001b[0m \u001b[1;33m\u001b[0m\u001b[0m\n\u001b[1;32m---> 19\u001b[1;33m \u001b[0mdf\u001b[0m \u001b[1;33m=\u001b[0m \u001b[0mpd\u001b[0m\u001b[1;33m.\u001b[0m\u001b[0mread_excel\u001b[0m\u001b[1;33m(\u001b[0m\u001b[1;34m\"data\\data.xlsx\"\u001b[0m\u001b[1;33m)\u001b[0m\u001b[1;33m\u001b[0m\u001b[1;33m\u001b[0m\u001b[0m\n\u001b[0m\u001b[0;32m     20\u001b[0m \u001b[1;33m\u001b[0m\u001b[0m\n\u001b[0;32m     21\u001b[0m \u001b[0mdf\u001b[0m\u001b[1;33m.\u001b[0m\u001b[0minfo\u001b[0m\u001b[1;33m(\u001b[0m\u001b[1;33m)\u001b[0m\u001b[1;33m\u001b[0m\u001b[1;33m\u001b[0m\u001b[0m\n",
      "\u001b[1;32m~\\anaconda3\\lib\\site-packages\\pandas\\util\\_decorators.py\u001b[0m in \u001b[0;36mwrapper\u001b[1;34m(*args, **kwargs)\u001b[0m\n\u001b[0;32m    297\u001b[0m                 )\n\u001b[0;32m    298\u001b[0m                 \u001b[0mwarnings\u001b[0m\u001b[1;33m.\u001b[0m\u001b[0mwarn\u001b[0m\u001b[1;33m(\u001b[0m\u001b[0mmsg\u001b[0m\u001b[1;33m,\u001b[0m \u001b[0mFutureWarning\u001b[0m\u001b[1;33m,\u001b[0m \u001b[0mstacklevel\u001b[0m\u001b[1;33m=\u001b[0m\u001b[0mstacklevel\u001b[0m\u001b[1;33m)\u001b[0m\u001b[1;33m\u001b[0m\u001b[1;33m\u001b[0m\u001b[0m\n\u001b[1;32m--> 299\u001b[1;33m             \u001b[1;32mreturn\u001b[0m \u001b[0mfunc\u001b[0m\u001b[1;33m(\u001b[0m\u001b[1;33m*\u001b[0m\u001b[0margs\u001b[0m\u001b[1;33m,\u001b[0m \u001b[1;33m**\u001b[0m\u001b[0mkwargs\u001b[0m\u001b[1;33m)\u001b[0m\u001b[1;33m\u001b[0m\u001b[1;33m\u001b[0m\u001b[0m\n\u001b[0m\u001b[0;32m    300\u001b[0m \u001b[1;33m\u001b[0m\u001b[0m\n\u001b[0;32m    301\u001b[0m         \u001b[1;32mreturn\u001b[0m \u001b[0mwrapper\u001b[0m\u001b[1;33m\u001b[0m\u001b[1;33m\u001b[0m\u001b[0m\n",
      "\u001b[1;32m~\\anaconda3\\lib\\site-packages\\pandas\\io\\excel\\_base.py\u001b[0m in \u001b[0;36mread_excel\u001b[1;34m(io, sheet_name, header, names, index_col, usecols, squeeze, dtype, engine, converters, true_values, false_values, skiprows, nrows, na_values, keep_default_na, na_filter, verbose, parse_dates, date_parser, thousands, comment, skipfooter, convert_float, mangle_dupe_cols, storage_options)\u001b[0m\n\u001b[0;32m    334\u001b[0m     \u001b[1;32mif\u001b[0m \u001b[1;32mnot\u001b[0m \u001b[0misinstance\u001b[0m\u001b[1;33m(\u001b[0m\u001b[0mio\u001b[0m\u001b[1;33m,\u001b[0m \u001b[0mExcelFile\u001b[0m\u001b[1;33m)\u001b[0m\u001b[1;33m:\u001b[0m\u001b[1;33m\u001b[0m\u001b[1;33m\u001b[0m\u001b[0m\n\u001b[0;32m    335\u001b[0m         \u001b[0mshould_close\u001b[0m \u001b[1;33m=\u001b[0m \u001b[1;32mTrue\u001b[0m\u001b[1;33m\u001b[0m\u001b[1;33m\u001b[0m\u001b[0m\n\u001b[1;32m--> 336\u001b[1;33m         \u001b[0mio\u001b[0m \u001b[1;33m=\u001b[0m \u001b[0mExcelFile\u001b[0m\u001b[1;33m(\u001b[0m\u001b[0mio\u001b[0m\u001b[1;33m,\u001b[0m \u001b[0mstorage_options\u001b[0m\u001b[1;33m=\u001b[0m\u001b[0mstorage_options\u001b[0m\u001b[1;33m,\u001b[0m \u001b[0mengine\u001b[0m\u001b[1;33m=\u001b[0m\u001b[0mengine\u001b[0m\u001b[1;33m)\u001b[0m\u001b[1;33m\u001b[0m\u001b[1;33m\u001b[0m\u001b[0m\n\u001b[0m\u001b[0;32m    337\u001b[0m     \u001b[1;32melif\u001b[0m \u001b[0mengine\u001b[0m \u001b[1;32mand\u001b[0m \u001b[0mengine\u001b[0m \u001b[1;33m!=\u001b[0m \u001b[0mio\u001b[0m\u001b[1;33m.\u001b[0m\u001b[0mengine\u001b[0m\u001b[1;33m:\u001b[0m\u001b[1;33m\u001b[0m\u001b[1;33m\u001b[0m\u001b[0m\n\u001b[0;32m    338\u001b[0m         raise ValueError(\n",
      "\u001b[1;32m~\\anaconda3\\lib\\site-packages\\pandas\\io\\excel\\_base.py\u001b[0m in \u001b[0;36m__init__\u001b[1;34m(self, path_or_buffer, engine, storage_options)\u001b[0m\n\u001b[0;32m   1069\u001b[0m                 \u001b[0mext\u001b[0m \u001b[1;33m=\u001b[0m \u001b[1;34m\"xls\"\u001b[0m\u001b[1;33m\u001b[0m\u001b[1;33m\u001b[0m\u001b[0m\n\u001b[0;32m   1070\u001b[0m             \u001b[1;32melse\u001b[0m\u001b[1;33m:\u001b[0m\u001b[1;33m\u001b[0m\u001b[1;33m\u001b[0m\u001b[0m\n\u001b[1;32m-> 1071\u001b[1;33m                 ext = inspect_excel_format(\n\u001b[0m\u001b[0;32m   1072\u001b[0m                     \u001b[0mcontent\u001b[0m\u001b[1;33m=\u001b[0m\u001b[0mpath_or_buffer\u001b[0m\u001b[1;33m,\u001b[0m \u001b[0mstorage_options\u001b[0m\u001b[1;33m=\u001b[0m\u001b[0mstorage_options\u001b[0m\u001b[1;33m\u001b[0m\u001b[1;33m\u001b[0m\u001b[0m\n\u001b[0;32m   1073\u001b[0m                 )\n",
      "\u001b[1;32m~\\anaconda3\\lib\\site-packages\\pandas\\io\\excel\\_base.py\u001b[0m in \u001b[0;36minspect_excel_format\u001b[1;34m(path, content, storage_options)\u001b[0m\n\u001b[0;32m    947\u001b[0m     \u001b[1;32massert\u001b[0m \u001b[0mcontent_or_path\u001b[0m \u001b[1;32mis\u001b[0m \u001b[1;32mnot\u001b[0m \u001b[1;32mNone\u001b[0m\u001b[1;33m\u001b[0m\u001b[1;33m\u001b[0m\u001b[0m\n\u001b[0;32m    948\u001b[0m \u001b[1;33m\u001b[0m\u001b[0m\n\u001b[1;32m--> 949\u001b[1;33m     with get_handle(\n\u001b[0m\u001b[0;32m    950\u001b[0m         \u001b[0mcontent_or_path\u001b[0m\u001b[1;33m,\u001b[0m \u001b[1;34m\"rb\"\u001b[0m\u001b[1;33m,\u001b[0m \u001b[0mstorage_options\u001b[0m\u001b[1;33m=\u001b[0m\u001b[0mstorage_options\u001b[0m\u001b[1;33m,\u001b[0m \u001b[0mis_text\u001b[0m\u001b[1;33m=\u001b[0m\u001b[1;32mFalse\u001b[0m\u001b[1;33m\u001b[0m\u001b[1;33m\u001b[0m\u001b[0m\n\u001b[0;32m    951\u001b[0m     ) as handle:\n",
      "\u001b[1;32m~\\anaconda3\\lib\\site-packages\\pandas\\io\\common.py\u001b[0m in \u001b[0;36mget_handle\u001b[1;34m(path_or_buf, mode, encoding, compression, memory_map, is_text, errors, storage_options)\u001b[0m\n\u001b[0;32m    649\u001b[0m         \u001b[1;32melse\u001b[0m\u001b[1;33m:\u001b[0m\u001b[1;33m\u001b[0m\u001b[1;33m\u001b[0m\u001b[0m\n\u001b[0;32m    650\u001b[0m             \u001b[1;31m# Binary mode\u001b[0m\u001b[1;33m\u001b[0m\u001b[1;33m\u001b[0m\u001b[1;33m\u001b[0m\u001b[0m\n\u001b[1;32m--> 651\u001b[1;33m             \u001b[0mhandle\u001b[0m \u001b[1;33m=\u001b[0m \u001b[0mopen\u001b[0m\u001b[1;33m(\u001b[0m\u001b[0mhandle\u001b[0m\u001b[1;33m,\u001b[0m \u001b[0mioargs\u001b[0m\u001b[1;33m.\u001b[0m\u001b[0mmode\u001b[0m\u001b[1;33m)\u001b[0m\u001b[1;33m\u001b[0m\u001b[1;33m\u001b[0m\u001b[0m\n\u001b[0m\u001b[0;32m    652\u001b[0m         \u001b[0mhandles\u001b[0m\u001b[1;33m.\u001b[0m\u001b[0mappend\u001b[0m\u001b[1;33m(\u001b[0m\u001b[0mhandle\u001b[0m\u001b[1;33m)\u001b[0m\u001b[1;33m\u001b[0m\u001b[1;33m\u001b[0m\u001b[0m\n\u001b[0;32m    653\u001b[0m \u001b[1;33m\u001b[0m\u001b[0m\n",
      "\u001b[1;31mFileNotFoundError\u001b[0m: [Errno 2] No such file or directory: 'data\\\\data.xlsx'"
     ]
    }
   ],
   "source": [
    "# Pandas\n",
    "import pandas as pd\n",
    "import numpy as np\n",
    "\n",
    "pd.set_option('display.max_rows', 500)\n",
    "pd.set_option('display.max_columns', 500)\n",
    "pd.set_option('display.width', 1000)\n",
    "\n",
    "# Pandas read examples:\n",
    "# https://www.datacamp.com/community/tutorials/importing-data-into-pandas\n",
    "\n",
    "# be careful with backward slash \\\n",
    "\n",
    "import os\n",
    "os.getcwd() # get current working directory \n",
    "# os.chdir(r'2_Data_and_Control_Flow')\n",
    "# os.chdir(r'..')\n",
    "\n",
    "df = pd.read_excel(\"..\\data\\data.xlsx\")\n",
    "\n",
    "df.info()\n",
    "df.dtypes\n",
    "df.head() # first \n",
    "df.tail() # last # df.tail(3)\n",
    "\n",
    "df.describe() # descriptive statis\n",
    "\n",
    "df.columns\n",
    "df.index\n",
    "df['age']\n",
    "df['firstName']\n"
   ]
  },
  {
   "cell_type": "code",
   "execution_count": null,
   "id": "2a1e56be",
   "metadata": {},
   "outputs": [],
   "source": [
    "df"
   ]
  },
  {
   "cell_type": "code",
   "execution_count": null,
   "id": "807465a7",
   "metadata": {},
   "outputs": [],
   "source": [
    "# iloc\n",
    "# df.iloc[2,1]\n",
    "df.iloc[2:5,1:3]"
   ]
  },
  {
   "cell_type": "markdown",
   "id": "2449e9cb",
   "metadata": {},
   "source": [
    "## Жишээ\n",
    "Доорх текстээр loc функцийг тайлбарлана. "
   ]
  },
  {
   "cell_type": "code",
   "execution_count": null,
   "id": "c83fccd4",
   "metadata": {
    "scrolled": true
   },
   "outputs": [],
   "source": [
    "# loc - index\n",
    "df.loc[5,\"lastName\"]\n",
    "df.loc[5:8,\"lastName\"]\n",
    "df.loc[5:8,(\"lastName\",\"firstName\")]"
   ]
  },
  {
   "cell_type": "code",
   "execution_count": null,
   "id": "afb2ece7",
   "metadata": {
    "scrolled": false
   },
   "outputs": [],
   "source": [
    "df.set_index('firstName',drop=False, inplace=True) # ,drop=False\n"
   ]
  },
  {
   "cell_type": "code",
   "execution_count": null,
   "id": "6dd08a87",
   "metadata": {},
   "outputs": [],
   "source": [
    "df.loc[\"Gerel\",\"lastName\"]"
   ]
  },
  {
   "cell_type": "code",
   "execution_count": null,
   "id": "87bf8ef2",
   "metadata": {},
   "outputs": [],
   "source": [
    "df[df[\"age\"]<27] # df[\"age\"]<27\n",
    "df[~(df['age']<27)]['age']\n",
    "df[df[\"age\"]<27][[\"firstName\",\"lastName\",\"salary\",\"age\"]]\n",
    "df[df[\"age\"]>=27][[\"firstName\",\"lastName\",\"salary\",\"age\"]]\n"
   ]
  },
  {
   "cell_type": "code",
   "execution_count": null,
   "id": "f6de62a2",
   "metadata": {
    "scrolled": true
   },
   "outputs": [],
   "source": [
    "df[df[\"age\"]>=27][[\"firstName\",\"lastName\",\"salary\",\"age\"]]"
   ]
  },
  {
   "cell_type": "code",
   "execution_count": null,
   "id": "9f715901",
   "metadata": {},
   "outputs": [],
   "source": [
    "df[(df[\"age\"]<27) & (df[\"salary\"]<2.0) & (df[\"gender\"] != \"M\")][['age','salary','gender']]\n",
    "df[(df[\"age\"]<27) & (df[\"salary\"]<2.0) & (df[\"gender\"] == \"F\")][['age','salary','gender']]"
   ]
  },
  {
   "cell_type": "code",
   "execution_count": null,
   "id": "b25983eb",
   "metadata": {
    "scrolled": true
   },
   "outputs": [],
   "source": [
    "df[(df[\"age\"]<27) & (df[\"salary\"]<2.0) & (df[\"gender\"] == \"F\")][['age','salary','gender']]"
   ]
  },
  {
   "cell_type": "code",
   "execution_count": null,
   "id": "16286555",
   "metadata": {},
   "outputs": [],
   "source": [
    "df.groupby('gender')['salary'].mean()\n",
    "df.groupby(\"gender\")['salary'].max()\n",
    "df.groupby(\"gender\")['salary'].min()"
   ]
  },
  {
   "cell_type": "code",
   "execution_count": null,
   "id": "dc3ebfb4",
   "metadata": {},
   "outputs": [],
   "source": [
    "df.groupby(['gender','politicalView'])['age'].mean()"
   ]
  },
  {
   "cell_type": "code",
   "execution_count": null,
   "id": "1ed2ee7b",
   "metadata": {
    "scrolled": true
   },
   "outputs": [],
   "source": [
    "df.groupby(['gender','politicalView'])[['age','salary']].mean()"
   ]
  },
  {
   "cell_type": "code",
   "execution_count": null,
   "id": "7e2c04b3",
   "metadata": {
    "scrolled": true
   },
   "outputs": [],
   "source": [
    "res = df.groupby(['gender','politicalView']).agg({'age': [\"mean\",\"max\"], 'salary': [\"max\",\"count\"]})\n",
    "res"
   ]
  },
  {
   "cell_type": "code",
   "execution_count": null,
   "id": "0959282b",
   "metadata": {},
   "outputs": [],
   "source": [
    "res.columns"
   ]
  },
  {
   "cell_type": "code",
   "execution_count": null,
   "id": "1a6046af",
   "metadata": {},
   "outputs": [],
   "source": [
    "res.index"
   ]
  },
  {
   "cell_type": "code",
   "execution_count": null,
   "id": "54fd9f49",
   "metadata": {},
   "outputs": [],
   "source": [
    "res[('age','mean')]"
   ]
  },
  {
   "cell_type": "code",
   "execution_count": null,
   "id": "0ef70229",
   "metadata": {
    "scrolled": true
   },
   "outputs": [],
   "source": [
    "res.loc[('F', 'right'),('age','mean')]"
   ]
  },
  {
   "cell_type": "code",
   "execution_count": null,
   "id": "a7c55ed5",
   "metadata": {},
   "outputs": [],
   "source": [
    "res['age']"
   ]
  },
  {
   "cell_type": "code",
   "execution_count": null,
   "id": "a1240baa",
   "metadata": {},
   "outputs": [],
   "source": [
    "table = pd.pivot_table(df, values=['age','salary'], index=['gender'],\n",
    "                    columns=['politicalView'], aggfunc=np.mean)\n",
    "table"
   ]
  },
  {
   "cell_type": "code",
   "execution_count": null,
   "id": "fa7184aa",
   "metadata": {},
   "outputs": [],
   "source": [
    "table.to_excel('./result/pivot.xlsx')"
   ]
  },
  {
   "cell_type": "code",
   "execution_count": null,
   "id": "58dfe7ae",
   "metadata": {
    "scrolled": true
   },
   "outputs": [],
   "source": [
    "df.sort_values(by=[\"gender\",\"yearsInCompany\",], ascending=False)"
   ]
  },
  {
   "cell_type": "code",
   "execution_count": null,
   "id": "75c42b8f",
   "metadata": {
    "scrolled": true
   },
   "outputs": [],
   "source": [
    "df[\"name\"] = np.arange(10)\n",
    "df"
   ]
  },
  {
   "cell_type": "code",
   "execution_count": null,
   "id": "a83c1acc",
   "metadata": {},
   "outputs": [],
   "source": [
    "df.reset_index(drop=True,inplace=True)"
   ]
  },
  {
   "cell_type": "code",
   "execution_count": null,
   "id": "66f04d39",
   "metadata": {
    "scrolled": true
   },
   "outputs": [],
   "source": [
    "df"
   ]
  },
  {
   "cell_type": "code",
   "execution_count": null,
   "id": "6a800417",
   "metadata": {
    "scrolled": true
   },
   "outputs": [],
   "source": [
    "df[[\"age\",\"salary\"]]"
   ]
  },
  {
   "cell_type": "code",
   "execution_count": null,
   "id": "f07537be",
   "metadata": {},
   "outputs": [],
   "source": [
    "df.columns"
   ]
  },
  {
   "cell_type": "code",
   "execution_count": null,
   "id": "b3dc5323",
   "metadata": {
    "scrolled": true
   },
   "outputs": [],
   "source": [
    "df.values"
   ]
  },
  {
   "cell_type": "code",
   "execution_count": null,
   "id": "f8dec935",
   "metadata": {},
   "outputs": [],
   "source": [
    "df = pd.DataFrame()"
   ]
  },
  {
   "cell_type": "code",
   "execution_count": null,
   "id": "f2f38854",
   "metadata": {},
   "outputs": [],
   "source": [
    "data = {'Salary':[1000, 2222, 3321, 4414, 5151],\n",
    "       'Name': ['Pete', 'Steve',\n",
    "                   'Brian',\n",
    "                   'Ryan', 'Jim'],\n",
    "       'Share':[29.88, 19.05, 8.17,\n",
    "               7.3, 6.15],\n",
    "       'Date':['11/24/2020', '12/21/2019', \n",
    "               '10/14/2018', '12/13/2017', '01/08/2017'],\n",
    "       'Date2': [20120902, 20130413, 20140921, 20140321,\n",
    "                20140321]}"
   ]
  },
  {
   "cell_type": "code",
   "execution_count": null,
   "id": "512cba68",
   "metadata": {
    "scrolled": true
   },
   "outputs": [],
   "source": [
    "data"
   ]
  },
  {
   "cell_type": "code",
   "execution_count": null,
   "id": "885dd964",
   "metadata": {},
   "outputs": [],
   "source": [
    "df = pd.DataFrame(data)\n",
    "df"
   ]
  },
  {
   "cell_type": "code",
   "execution_count": null,
   "id": "2608ae04",
   "metadata": {
    "scrolled": true
   },
   "outputs": [],
   "source": [
    "df.info()"
   ]
  },
  {
   "cell_type": "code",
   "execution_count": null,
   "id": "15ecb854",
   "metadata": {},
   "outputs": [],
   "source": [
    "df = pd.DataFrame()\n"
   ]
  },
  {
   "cell_type": "code",
   "execution_count": null,
   "id": "100e42d0",
   "metadata": {},
   "outputs": [],
   "source": [
    "data = {'Name': [], 'Age': []} "
   ]
  },
  {
   "cell_type": "code",
   "execution_count": null,
   "id": "2a976185",
   "metadata": {},
   "outputs": [],
   "source": [
    "df = pd.DataFrame(data) \n",
    "df"
   ]
  },
  {
   "cell_type": "code",
   "execution_count": null,
   "id": "63ea17b4",
   "metadata": {},
   "outputs": [],
   "source": [
    "df = pd.DataFrame(columns=['name1', 'age1']) \n",
    "df"
   ]
  },
  {
   "cell_type": "code",
   "execution_count": null,
   "id": "b9ff901e",
   "metadata": {},
   "outputs": [],
   "source": [
    "data = {'Salary':[1000, 2222, 3321, 4414, 5151],\n",
    "       'Name': ['Pete', 'Steve',\n",
    "                   'Brian',\n",
    "                   'Ryan', 'Jim'],\n",
    "       'Share':[29.88, 19.05, 8.17,\n",
    "               7.3, 6.15],\n",
    "       'Date':['11/24/2020', '12/21/2019', \n",
    "               '10/14/2018', '12/13/2017', '01/08/2017'],\n",
    "       'Date2': [20120902, 20130413, 20140921, 20140321,\n",
    "                20140321]}\n",
    "df = pd.DataFrame(data)"
   ]
  },
  {
   "cell_type": "code",
   "execution_count": null,
   "id": "3a5cef6c",
   "metadata": {},
   "outputs": [],
   "source": [
    "# saving to files\n",
    "df.to_csv('../result/my.csv')\n",
    "df.to_json('../result/my.json', indent = 4)\n",
    "df.to_excel('../result/my.xlsx')"
   ]
  },
  {
   "cell_type": "code",
   "execution_count": null,
   "id": "ba8b5663",
   "metadata": {},
   "outputs": [],
   "source": [
    "df.to_json('../result/my.json', indent = 4)"
   ]
  },
  {
   "cell_type": "code",
   "execution_count": 2,
   "id": "0c070440",
   "metadata": {},
   "outputs": [
    {
     "data": {
      "text/plain": [
       "'D:\\\\Documents\\\\python\\\\repo\\\\Introduction_Python\\\\2_Data_and_Control_Flow\\\\code'"
      ]
     },
     "execution_count": 2,
     "metadata": {},
     "output_type": "execute_result"
    }
   ],
   "source": [
    "os.getcwd()"
   ]
  }
 ],
 "metadata": {
  "kernelspec": {
   "display_name": "Python 3",
   "language": "python",
   "name": "python3"
  },
  "language_info": {
   "codemirror_mode": {
    "name": "ipython",
    "version": 3
   },
   "file_extension": ".py",
   "mimetype": "text/x-python",
   "name": "python",
   "nbconvert_exporter": "python",
   "pygments_lexer": "ipython3",
   "version": "3.8.8"
  }
 },
 "nbformat": 4,
 "nbformat_minor": 5
}
